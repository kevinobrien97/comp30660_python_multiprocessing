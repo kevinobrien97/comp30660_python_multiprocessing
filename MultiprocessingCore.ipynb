{
 "cells": [
  {
   "cell_type": "markdown",
   "metadata": {},
   "source": [
    "# Multiprocessing using Pools \n",
    "A simple framework for assessing the impact of multiprocessing on runtime on a multi-core machine. "
   ]
  },
  {
   "cell_type": "code",
   "execution_count": 75,
   "metadata": {},
   "outputs": [],
   "source": [
    "import time\n",
    "import math\n",
    "import multiprocessing\n",
    "from multiprocessing import Pool\n",
    "# using M1 Mac so initial code provided would not work\n",
    "# get_context solution used from https://stackoverflow.com/questions/67999589/multiprocessing-with-pool-throws-error-on-m1-macbook\n",
    "from multiprocessing import get_context\n",
    "import functions\n",
    "import sys\n",
    "import warnings\n",
    "import matplotlib.pyplot as plt\n",
    "%matplotlib inline"
   ]
  },
  {
   "cell_type": "code",
   "execution_count": 97,
   "metadata": {},
   "outputs": [],
   "source": [
    "# A function for timing a job that uses a pool of processes.\n",
    "#  f is a function that takes a single argument\n",
    "#  data is an array of arguments on which f will be mapped\n",
    "#  pool_size is the number of processes in the pool. \n",
    "def pool_process(f, data, pool_size):\n",
    "    tp1 = time.time()\n",
    "    pool = get_context(\"fork\").Pool(processes=pool_size) # initialize the Pool.\n",
    "    result = pool.map(f, data)       # map f to the data using the Pool of processes to do the work \n",
    "    pool.close() # No more processes\n",
    "    pool.join()  # Wait for the pool processing to complete. \n",
    "    #print(\"Results\", result)\n",
    "    time_taken = int(time.time()-tp1)\n",
    "    #print(\"Overall Time:\", time_taken, \"seconds\")\n",
    "    return time_taken\n",
    " "
   ]
  },
  {
   "cell_type": "code",
   "execution_count": 9,
   "metadata": {},
   "outputs": [],
   "source": [
    "def my_func(x):\n",
    "    s = math.sqrt(x)\n",
    "    return s"
   ]
  },
  {
   "cell_type": "code",
   "execution_count": 10,
   "metadata": {},
   "outputs": [],
   "source": [
    "# This verbose version shows which process in the pool is running each task. \n",
    "def my_func_verbose(x):\n",
    "    s = math.sqrt(x)\n",
    "    print(\"Task: \", multiprocessing.current_process(), x, s)\n",
    "    return s"
   ]
  },
  {
   "cell_type": "code",
   "execution_count": 11,
   "metadata": {},
   "outputs": [],
   "source": [
    "dataRange = range(10)"
   ]
  },
  {
   "cell_type": "markdown",
   "metadata": {},
   "source": [
    "Use the pool_process function to apply my_func to the data in dataRange.  \n",
    "This task is so light it requires very little processing time. "
   ]
  },
  {
   "cell_type": "code",
   "execution_count": 15,
   "metadata": {},
   "outputs": [
    {
     "name": "stdout",
     "output_type": "stream",
     "text": [
      "Task: Task:   <ForkProcess name='ForkPoolWorker-5' parent=42461 started daemon><ForkProcess name='ForkPoolWorker-6' parent=42461 started daemon>  20  0.01.4142135623730951\n",
      "\n",
      "Task: Task:   <ForkProcess name='ForkPoolWorker-5' parent=42461 started daemon><ForkProcess name='ForkPoolWorker-6' parent=42461 started daemon>  31  1.01.7320508075688772\n",
      "\n",
      "Task: Task:   <ForkProcess name='ForkPoolWorker-6' parent=42461 started daemon><ForkProcess name='ForkPoolWorker-5' parent=42461 started daemon>  46  2.4494897427831782.0\n",
      "\n",
      "Task: Task:   <ForkProcess name='ForkPoolWorker-6' parent=42461 started daemon><ForkProcess name='ForkPoolWorker-5' parent=42461 started daemon>  57  2.236067977499792.6457513110645907\n",
      "\n",
      "Task:  <ForkProcess name='ForkPoolWorker-6' parent=42461 started daemon> 8 2.8284271247461903\n",
      "Task:  <ForkProcess name='ForkPoolWorker-6' parent=42461 started daemon> 9 3.0\n",
      "Results [0.0, 1.0, 1.4142135623730951, 1.7320508075688772, 2.0, 2.23606797749979, 2.449489742783178, 2.6457513110645907, 2.8284271247461903, 3.0]\n",
      "Overall Time: 0 seconds\n"
     ]
    }
   ],
   "source": [
    "pool_process(my_func_verbose, dataRange, 2)"
   ]
  },
  {
   "cell_type": "code",
   "execution_count": 16,
   "metadata": {},
   "outputs": [
    {
     "name": "stdout",
     "output_type": "stream",
     "text": [
      "Results [0.0, 1.0, 1.4142135623730951, 1.7320508075688772, 2.0, 2.23606797749979, 2.449489742783178, 2.6457513110645907, 2.8284271247461903, 3.0]\n",
      "Overall Time: 0 seconds\n"
     ]
    }
   ],
   "source": [
    "pool_process(my_func, dataRange, 2)"
   ]
  },
  {
   "cell_type": "markdown",
   "metadata": {},
   "source": [
    "It is evident that the above functions are not complicated enough (i.e. they take very little time to execute) to warrant utilising extra cores. Therefore the naive prime checker below is introduced in order to quantify the speed-up from extra cores."
   ]
  },
  {
   "cell_type": "markdown",
   "metadata": {},
   "source": [
    "## A naive function for checking primes "
   ]
  },
  {
   "cell_type": "markdown",
   "metadata": {},
   "source": [
    "We note that we have not changed the check_prime function to be less naive as the ultimate goal in this assignment is to check the speed derived from using multiple cores, rather than actual efficiency."
   ]
  },
  {
   "cell_type": "code",
   "execution_count": 92,
   "metadata": {},
   "outputs": [],
   "source": [
    "%%capture prints\n",
    "# using %%capture as we are not interested in the actual output from this function, merely the time taken to run\n",
    "# the below results in the print statements being written to stderr instead \n",
    "\n",
    "def check_prime(num):\n",
    "    warnings.filterwarnings(\"ignore\")\n",
    "    t1 = time.time()\n",
    "    res = False\n",
    "    if num > 0:\n",
    "        # check for factors\n",
    "        for i in range(2,num):\n",
    "            if (num % i) == 0:\n",
    "                #print(num,\"is not a prime number\", file=sys.stderr)\n",
    "                #print(i,\"times\",num//i,\"is\",num, file=sys.stderr)\n",
    "                #print(\"Time:\", int(time.time()-t1), file=sys.stderr)\n",
    "                break\n",
    "        else:\n",
    "            #print(num,\"is a prime number\", file=sys.stderr)\n",
    "            #print(\"Time:\", time.time()-t1, file=sys.stderr) \n",
    "            res = True\n",
    "            # if input number is less than\n",
    "            # or equal to 1, it is not prime\n",
    "    #return res\n",
    "    return"
   ]
  },
  {
   "cell_type": "code",
   "execution_count": 43,
   "metadata": {},
   "outputs": [
    {
     "name": "stderr",
     "output_type": "stream",
     "text": [
      "7 is a prime number\n",
      "Time: 9.608268737792969e-05\n"
     ]
    },
    {
     "data": {
      "text/plain": [
       "True"
      ]
     },
     "execution_count": 43,
     "metadata": {},
     "output_type": "execute_result"
    }
   ],
   "source": [
    "check_prime(7)"
   ]
  },
  {
   "cell_type": "code",
   "execution_count": 25,
   "metadata": {},
   "outputs": [
    {
     "name": "stdout",
     "output_type": "stream",
     "text": [
      "15488803 is not a prime number\n",
      "11 times 1408073 is 15488803\n",
      "Time: 0\n"
     ]
    },
    {
     "data": {
      "text/plain": [
       "False"
      ]
     },
     "execution_count": 25,
     "metadata": {},
     "output_type": "execute_result"
    }
   ],
   "source": [
    "check_prime(15488803)"
   ]
  },
  {
   "cell_type": "code",
   "execution_count": 109,
   "metadata": {},
   "outputs": [
    {
     "name": "stdout",
     "output_type": "stream",
     "text": [
      "36\n"
     ]
    }
   ],
   "source": [
    "primes = [15484661,15484697,15484709,15484723,15484769,15484771,15484783,15484817,15484823,15484873,15484877,15484879,15484901,\n",
    "         15484919,15484939,15484951,15484961,15484999,15485039,15485053,15485059,15485077,15485083,15485143,15485161,15485179,15485191,\n",
    "         15485221,15485243,15485251,15485257,15485273,15485287,15485291,15485293,15485299]\n",
    "print(len(primes))"
   ]
  },
  {
   "cell_type": "code",
   "execution_count": null,
   "metadata": {},
   "outputs": [],
   "source": []
  },
  {
   "cell_type": "code",
   "execution_count": 79,
   "metadata": {},
   "outputs": [],
   "source": [
    "# list of the number of cores, used for plotting times\n",
    "corenumbers = [x for x in range(1,9)]"
   ]
  },
  {
   "cell_type": "code",
   "execution_count": 81,
   "metadata": {
    "scrolled": true
   },
   "outputs": [],
   "source": [
    "def mainfunc(numbers):\n",
    "    times = []\n",
    "    for cores in range(1,9):\n",
    "        times.append(pool_process(check_prime, numbers, cores))\n",
    "    return times"
   ]
  },
  {
   "cell_type": "code",
   "execution_count": 99,
   "metadata": {},
   "outputs": [
    {
     "data": {
      "image/png": "[encoded data removed]",
      "text/plain": [
       "<Figure size 432x288 with 1 Axes>"
      ]
     },
     "metadata": {
      "needs_background": "light"
     },
     "output_type": "display_data"
    }
   ],
   "source": [
    "running_time = mainfunc(primes)\n",
    "plt.plot(corenumbers, running_time)\n",
    "plt.xlabel(\"Number of Cores\", fontsize=12)\n",
    "plt.ylabel(\"Time (seconds)\", fontsize=12)\n",
    "plt.title(\"Time to calculate series\", fontsize=15)\n",
    "plt.show()"
   ]
  },
  {
   "cell_type": "code",
   "execution_count": 111,
   "metadata": {},
   "outputs": [
    {
     "name": "stdout",
     "output_type": "stream",
     "text": [
      "8\n",
      "12\n",
      "16\n",
      "20\n",
      "24\n",
      "28\n",
      "32\n",
      "36\n"
     ]
    },
    {
     "data": {
      "image/png": "[encoded data removed]",
      "text/plain": [
       "<Figure size 432x288 with 1 Axes>"
      ]
     },
     "metadata": {
      "needs_background": "light"
     },
     "output_type": "display_data"
    }
   ],
   "source": [
    "# create list of 8 0's to add running time to\n",
    "running_time = [0 for x in range(1,9)]\n",
    "\n",
    "# create lists of increasing lengths of the primes\n",
    "for i in range(0,(len(primes)-7),4):\n",
    "    prime_checks = primes[:(i+8)]\n",
    "    print(len(prime_checks))\n",
    "    times = mainfunc(prime_checks)\n",
    "    for i in range(len(times)):\n",
    "        running_time[i] += times[i]\n",
    "                        \n",
    "plt.plot(corenumbers, running_time)\n",
    "plt.xlabel(\"Number of Cores\", fontsize=12)\n",
    "plt.ylabel(\"Time (seconds)\", fontsize=12)\n",
    "plt.title(\"Time to calculate series\", fontsize=15)\n",
    "plt.show()"
   ]
  },
  {
   "cell_type": "code",
   "execution_count": null,
   "metadata": {},
   "outputs": [],
   "source": []
  },
  {
   "cell_type": "code",
   "execution_count": null,
   "metadata": {},
   "outputs": [],
   "source": []
  },
  {
   "cell_type": "code",
   "execution_count": null,
   "metadata": {},
   "outputs": [],
   "source": []
  },
  {
   "cell_type": "code",
   "execution_count": null,
   "metadata": {},
   "outputs": [],
   "source": []
  },
  {
   "cell_type": "code",
   "execution_count": null,
   "metadata": {},
   "outputs": [],
   "source": []
  }
 ],
 "metadata": {
  "kernelspec": {
   "display_name": "Python 3 (ipykernel)",
   "language": "python",
   "name": "python3"
  },
  "language_info": {
   "codemirror_mode": {
    "name": "ipython",
    "version": 3
   },
   "file_extension": ".py",
   "mimetype": "text/x-python",
   "name": "python",
   "nbconvert_exporter": "python",
   "pygments_lexer": "ipython3",
   "version": "3.8.12"
  }
 },
 "nbformat": 4,
 "nbformat_minor": 1
}
