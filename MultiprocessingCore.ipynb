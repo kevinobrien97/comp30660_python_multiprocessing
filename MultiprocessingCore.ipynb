{
 "cells": [
  {
   "cell_type": "markdown",
   "metadata": {},
   "source": [
    "# Multiprocessing using Pools \n",
    "A simple framework for assessing the impact of multiprocessing on runtime on a multi-core machine. "
   ]
  },
  {
   "cell_type": "code",
   "execution_count": 1,
   "metadata": {},
   "outputs": [],
   "source": [
    "import time\n",
    "import math\n",
    "import multiprocessing\n",
    "from multiprocessing import Pool\n",
    "# using M1 Mac so initial code provided would not work\n",
    "# get_context solution used from https://stackoverflow.com/questions/67999589/multiprocessing-with-pool-throws-error-on-m1-macbook\n",
    "from multiprocessing import get_context\n",
    "import functions\n",
    "import sys\n",
    "import warnings"
   ]
  },
  {
   "cell_type": "code",
   "execution_count": 2,
   "metadata": {},
   "outputs": [],
   "source": [
    "# A function for timing a job that uses a pool of processes.\n",
    "#  f is a function that takes a single argument\n",
    "#  data is an array of arguments on which f will be mapped\n",
    "#  pool_size is the number of processes in the pool. \n",
    "def pool_process(f, data, pool_size):\n",
    "    tp1 = time.time()\n",
    "    pool = get_context(\"fork\").Pool(processes=pool_size) # initialize the Pool.\n",
    "    result = pool.map(f, data)       # map f to the data using the Pool of processes to do the work \n",
    "    pool.close() # No more processes\n",
    "    pool.join()  # Wait for the pool processing to complete. \n",
    "    print(\"Results\", result)\n",
    "    print(\"Overall Time:\", int(time.time()-tp1))\n",
    " "
   ]
  },
  {
   "cell_type": "code",
   "execution_count": 3,
   "metadata": {},
   "outputs": [],
   "source": [
    "def my_func(x):\n",
    "    s = math.sqrt(x)\n",
    "    return s"
   ]
  },
  {
   "cell_type": "code",
   "execution_count": 4,
   "metadata": {},
   "outputs": [],
   "source": [
    "# This verbose version shows which process in the pool is running each task. \n",
    "def my_func_verbose(x):\n",
    "    s = math.sqrt(x)\n",
    "    print(\"Task: \", multiprocessing.current_process(), \"x: \", x, \"s: \", s)\n",
    "    return s"
   ]
  },
  {
   "cell_type": "code",
   "execution_count": 5,
   "metadata": {},
   "outputs": [],
   "source": [
    "dataRange = range(2)"
   ]
  },
  {
   "cell_type": "markdown",
   "metadata": {},
   "source": [
    "Use the pool_process function to apply my_func to the data in dataRange.  \n",
    "This task is so light it requires very little processing time. "
   ]
  },
  {
   "cell_type": "code",
   "execution_count": 6,
   "metadata": {},
   "outputs": [
    {
     "name": "stdout",
     "output_type": "stream",
     "text": [
      "Task: Task:   <ForkProcess name='ForkPoolWorker-1' parent=41841 started daemon><ForkProcess name='ForkPoolWorker-2' parent=41841 started daemon>  x: x:   10  s: s:   0.01.0\n",
      "\n",
      "Results [0.0, 1.0]\n",
      "Overall Time: 0\n"
     ]
    }
   ],
   "source": [
    "pool_process(my_func_verbose, dataRange, 2)"
   ]
  },
  {
   "cell_type": "code",
   "execution_count": 7,
   "metadata": {},
   "outputs": [
    {
     "name": "stdout",
     "output_type": "stream",
     "text": [
      "Results [0.0, 1.0]\n",
      "Overall Time: 0\n"
     ]
    }
   ],
   "source": [
    "pool_process(my_func, dataRange, 2)"
   ]
  },
  {
   "cell_type": "markdown",
   "metadata": {},
   "source": [
    "## A naive function for checking primes "
   ]
  },
  {
   "cell_type": "code",
   "execution_count": 8,
   "metadata": {},
   "outputs": [],
   "source": [
    "%%capture\n",
    "def check_prime(num):\n",
    "    warnings.filterwarnings(\"ignore\")\n",
    "    t1 = time.time()\n",
    "    res = False\n",
    "    if num > 0:\n",
    "        # check for factors\n",
    "        for i in range(2,num):\n",
    "            if (num % i) == 0:\n",
    "                print(num,\"is not a prime number\", file=sys.stderr)\n",
    "                print(i,\"times\",num//i,\"is\",num, file=sys.stderr)\n",
    "                print(\"Time:\", int(time.time()-t1), file=sys.stderr)\n",
    "                break\n",
    "        else:\n",
    "            print(num,\"is a prime number\", file=sys.stderr)\n",
    "            print(\"Time:\", time.time()-t1, file=sys.stderr) \n",
    "            res = True\n",
    "            # if input number is less than\n",
    "            # or equal to 1, it is not prime\n",
    "    return res\n"
   ]
  },
  {
   "cell_type": "code",
   "execution_count": 9,
   "metadata": {},
   "outputs": [
    {
     "name": "stderr",
     "output_type": "stream",
     "text": [
      "141650939 is a prime number\n",
      "Time: 8.020703792572021\n"
     ]
    },
    {
     "data": {
      "text/plain": [
       "True"
      ]
     },
     "execution_count": 9,
     "metadata": {},
     "output_type": "execute_result"
    }
   ],
   "source": [
    "check_prime(141650939)"
   ]
  },
  {
   "cell_type": "code",
   "execution_count": 10,
   "metadata": {},
   "outputs": [
    {
     "name": "stderr",
     "output_type": "stream",
     "text": [
      "15488803 is not a prime number\n",
      "11 times 1408073 is 15488803\n",
      "Time: 0\n"
     ]
    },
    {
     "data": {
      "text/plain": [
       "False"
      ]
     },
     "execution_count": 10,
     "metadata": {},
     "output_type": "execute_result"
    }
   ],
   "source": [
    "check_prime(15488803)"
   ]
  },
  {
   "cell_type": "code",
   "execution_count": 11,
   "metadata": {},
   "outputs": [
    {
     "name": "stdout",
     "output_type": "stream",
     "text": [
      "[]\n",
      "Results []\n",
      "Overall Time: 0\n",
      "[1000000, 1000017, 1000034, 1000051, 1000068, 1000085, 1000102, 1000119, 1000136, 1000153, 1000170, 1000187]\n"
     ]
    },
    {
     "name": "stderr",
     "output_type": "stream",
     "text": [
      "10000171000051100000010000341000085100011910001021000068        is not a prime numberis not a prime numberis not a prime numberis not a prime numberis not a prime numberis not a prime numberis not a prime numberis not a prime number\n",
      "\n",
      "\n",
      "\n",
      "\n",
      "\n",
      "\n",
      "\n",
      "321325322     timestimes  times times timestimestimes  times 76927  333339  500000500034 500017200017333373 500051 is    is is isisisis  is    100005110000171000000 1000034\n",
      "100006810001191000085\n",
      "\n",
      "1000102Time:\n",
      "\n",
      "\n",
      "Time:\n",
      "\n",
      "Time: Time:Time:Time: 0Time:  0  Time:\n",
      "000 \n",
      " 01000136\n",
      "0\n",
      "\n",
      "1000153\n",
      "0 \n",
      "1000170 \n",
      " is not a prime numberis not a prime number\n",
      "is not a prime number\n",
      "7\n",
      "2 2  timestimes times 142879 500068 500085 isis  is 1000153\n",
      "1000136 1000170\n",
      "Time:\n",
      " Time:Time:0  \n",
      "00\n",
      "\n",
      "1000187 is a prime number\n",
      "Time: 0.11747097969055176\n"
     ]
    },
    {
     "name": "stdout",
     "output_type": "stream",
     "text": [
      "Results [False, False, False, False, False, False, False, False, False, False, False, True]\n",
      "Overall Time: 0\n",
      "[1000000, 1000017, 1000034, 1000051, 1000068, 1000085, 1000102, 1000119, 1000136, 1000153, 1000170, 1000187, 1000204, 1000221, 1000238, 1000255, 1000272, 1000289, 1000306, 1000323, 1000340, 1000357, 1000374, 1000391]\n"
     ]
    },
    {
     "name": "stderr",
     "output_type": "stream",
     "text": [
      "10000001000034100001710000511000068100008510001021000119        is not a prime numberis not a prime numberis not a prime numberis not a prime numberis not a prime numberis not a prime numberis not a prime numberis not a prime number\n",
      "\n",
      "\n",
      "\n",
      "\n",
      "\n",
      "3\n",
      "\n",
      "222513 3 2    times  timestimestimes timestimes   timestimes333339  500000 500034500017 76927200017 333373   500051is   isis isisis  is is  1000017 10000001000068  10000341000051\n",
      "1000085\n",
      "1000119\n",
      "1000102\n",
      "\n",
      "\n",
      "Time:\n",
      "Time:Time:Time: Time:\n",
      "Time:Time:  0 Time:   00\n",
      "0 00\n",
      "0\n",
      "\n",
      "0\n",
      "1000136\n",
      "\n",
      "1000153\n",
      "10002041000170 1000238 10002551000221  is not a prime number is not a prime numberis not a prime number  \n",
      "is not a prime numberis not a prime number\n",
      "is not a prime number\n",
      "is not a prime number\n",
      "72\n",
      "\n",
      "22\n",
      "5   32 times timestimes  times  times times142879 500102500068 times 200051   500085 333407 isisis is 500119    isis 10002041000255 1000136 1000153is\n",
      "\n",
      "\n",
      "10002211000170 \n",
      "Time:\n",
      "Time:Time:\n",
      "Time:  1000238Time: Time:00  \n",
      " 00\n",
      "\n",
      "0Time:0\n",
      "1000272\n",
      "\n",
      " \n",
      "100030610003231000340 0   is not a prime number\n",
      "is not a prime numberis not a prime numberis not a prime number\n",
      "1000374\n",
      "\n",
      "\n",
      "22 23  is not a prime number  \n",
      "timestimestimestimes2     500136500153333441500170times     isisis500187is     1000323is100030610002721000340\n",
      "\n",
      "\n",
      "\n",
      " Time:Time:Time:Time:1000374    \n",
      "000\n",
      "Time:0\n",
      "\n",
      "\n",
      " 10003910 \n",
      "is not a prime number\n",
      "7 times 142913 is 1000391\n",
      "Time: 0\n",
      "1000289 is a prime number\n",
      "Time: 1000187 is a prime number0.11911773681640625\n",
      "\n",
      "Time: 0.18214178085327148\n",
      "1000357 is a prime number\n",
      "Time: 0.13701581954956055\n"
     ]
    },
    {
     "name": "stdout",
     "output_type": "stream",
     "text": [
      "Results [False, False, False, False, False, False, False, False, False, False, False, True, False, False, False, False, False, True, False, False, False, True, False, False]\n",
      "Overall Time: 0\n",
      "[1000000, 1000017, 1000034, 1000051, 1000068, 1000085, 1000102, 1000119, 1000136, 1000153, 1000170, 1000187, 1000204, 1000221, 1000238, 1000255, 1000272, 1000289, 1000306, 1000323, 1000340, 1000357, 1000374, 1000391, 1000408, 1000425, 1000442, 1000459, 1000476, 1000493, 1000510, 1000527, 1000544, 1000561, 1000578, 1000595]\n"
     ]
    },
    {
     "name": "stderr",
     "output_type": "stream",
     "text": [
      "10000341000102100006810002041000170100000010001361000238        is not a prime numberis not a prime numberis not a prime numberis not a prime numberis not a prime numberis not a prime numberis not a prime numberis not a prime number\n",
      "\n",
      "\n",
      "\n",
      "\n",
      "\n",
      "\n",
      "\n",
      "2222222 2      times timestimestimestimestimestimes  times     500000500051500068 500034500102500119500017 500085      isisisis isisis    is   1000000 100010210001361000068100023810002041000034\n",
      "1000170\n",
      "\n",
      "\n",
      "\n",
      "\n",
      "\n",
      "\n",
      "Time:Time:Time:Time:Time:Time:Time: Time:      0 000000\n",
      "0\n",
      "\n",
      "\n",
      "\n",
      "1000017\n",
      "\n",
      "\n",
      "1000153100011910000851000255 1000221 1000051   is not a prime numberis not a prime number is not a prime number is not a prime numberis not a prime number\n",
      "\n",
      "is not a prime number\n",
      "is not a prime number\n",
      "\n",
      "337\n",
      "\n",
      "55 3 13   timestimes timestimes times   timestimes 333339  200017 200051142879 333373   333407is76927 isis is  is   is 1000017is10002551000085 1000153\n",
      "1000119\n",
      " \n",
      "1000221\n",
      "\n",
      "Time:1000051\n",
      "Time:Time:Time:Time: Time: \n",
      "   0Time: 0000\n",
      "0\n",
      " \n",
      "\n",
      "\n",
      "\n",
      "1000306100027201000340100037410004081000442  \n",
      "   is not a prime number 1000476is not a prime numberis not a prime numberis not a prime numberis not a prime number\n",
      "is not a prime number\n",
      " \n",
      "\n",
      "\n",
      "2\n",
      "is not a prime number2222 2\n",
      "   times  2timestimestimes  1000187times times  500153500136 500187    times500170is a prime number 500204is 500221 isis  \n",
      "is500238  isisTime:   10003061000272 1000340  1000374is\n",
      "\n",
      "\n",
      "100040810004420.14317584037780762\n",
      " Time:Time:Time:\n",
      "\n",
      "Time:1000476\n",
      "   Time:Time: \n",
      "10005100  000Time: 0\n",
      "\n",
      "0\n",
      "\n",
      " is not a prime number\n",
      "1000323\n",
      "01000391\n",
      "1000425 2 \n",
      "1000459 is not a prime number is not a prime number1000493 is not a prime numbertimes\n",
      "\n",
      "\n",
      " is not a prime number 37is not a prime number3\n",
      "  500255 times173\n",
      "timestimes    13times142913 333441is   333475  timesis5783 1000510is   is\n",
      " 769611000391is 1000323Time: \n",
      "1000425  \n",
      "isTime:\n",
      "1000459Time: 0 Time:\n",
      "1000493 \n",
      "0 \n",
      "Time:10005270\n",
      "0Time:  \n",
      " 10005440\n",
      "1000578is not a prime number\n",
      "0  is not a prime number\n",
      "\n",
      "is not a prime number\n",
      "3\n",
      " 22times times  times 333509500272  500289 isis   1000527is1000544 \n",
      "\n",
      "Time:Time:1000578\n",
      "  00\n",
      "Time:\n",
      "1000561 0 is not a prime number\n",
      "1000595\n",
      "157  is not a prime numbertimes\n",
      " 56373  istimes  1000561200119 \n",
      "Time:is  01000595\n",
      "\n",
      "Time: 0\n",
      "1000289 is a prime number\n",
      "Time: 0.123562097549438481000357 \n",
      "is a prime number\n",
      "Time: 0.13302993774414062\n"
     ]
    },
    {
     "name": "stdout",
     "output_type": "stream",
     "text": [
      "Results [False, False, False, False, False, False, False, False, False, False, False, True, False, False, False, False, False, True, False, False, False, True, False, False, False, False, False, False, False, False, False, False, False, False, False, False]\n",
      "Overall Time: 0\n",
      "[1000000, 1000017, 1000034, 1000051, 1000068, 1000085, 1000102, 1000119, 1000136, 1000153, 1000170, 1000187, 1000204, 1000221, 1000238, 1000255, 1000272, 1000289, 1000306, 1000323, 1000340, 1000357, 1000374, 1000391, 1000408, 1000425, 1000442, 1000459, 1000476, 1000493, 1000510, 1000527, 1000544, 1000561, 1000578, 1000595, 1000612, 1000629, 1000646, 1000663, 1000680, 1000697, 1000714, 1000731, 1000748, 1000765, 1000782, 1000799]\n"
     ]
    },
    {
     "name": "stderr",
     "output_type": "stream",
     "text": [
      "10000341000136100000010001021000204100006810001701000238        is not a prime numberis not a prime numberis not a prime numberis not a prime numberis not a prime numberis not a prime numberis not a prime number\n",
      "is not a prime number\n",
      "\n",
      "\n",
      "\n",
      "\n",
      "\n",
      "2\n",
      "222222  2     timestimes timestimestimestimestimes  times     500034500017 500068500051500000 500102500119 500085   is  isis is isis is  is1000068 1000136 10001021000000  1000034\n",
      "100023810002041000170\n",
      "\n",
      "\n",
      "Time:\n",
      "\n",
      "\n",
      "Time:Time:Time:\n",
      " Time:Time: Time:  Time: 0 000 0 \n",
      "\n",
      "\n",
      "\n",
      "0001000085\n",
      "1000017\n",
      "10001531000119\n",
      " 1000255 1000221\n",
      "   1000051is not a prime number is not a prime numberis not a prime numberis not a prime numberis not a prime numberis not a prime number\n",
      " \n",
      "\n",
      "\n",
      "\n",
      "5\n",
      "is not a prime number3735 3 \n",
      "    timestimes13timestimestimestimes   200017    333373times 333339200051333407142879is       isis76927isis1000085is     1000119\n",
      " 10002551000017is1000221\n",
      "1000153\n",
      " Time:\n",
      "Time:1000051\n",
      "\n",
      " Time:Time:\n",
      "Time:0 Time:   Time: 0\n",
      "000 0\n",
      "1000272\n",
      "\n",
      "\n",
      "0\n",
      "1000306 100034010004081000374\n",
      " 10004421000476     is not a prime numberis not a prime numberis not a prime number\n",
      "is not a prime numberis not a prime numberis not a prime numberis not a prime number\n",
      "2\n",
      "\n",
      "\n",
      "\n",
      "\n",
      "2 22222 times    times  timestimestimestimes times500136      500153500238500204500170500187 is500221    isis  isisis1000272  is   100030610004761000374\n",
      "1000340 1000408\n",
      "\n",
      "\n",
      "Time:1000442\n",
      "\n",
      "Time:Time:Time: Time:\n",
      "Time: 0  Time:  0\n",
      " 0000\n",
      "0\n",
      "\n",
      "\n",
      "1000323\n",
      "\n",
      "100042510004931000459 1000391  is not a prime number  is not a prime numberis not a prime numberis not a prime numberis not a prime number\n",
      "\n",
      "\n",
      "\n",
      "\n",
      "33131737   1000187 times times timestimes times  333475is a prime number  333441769615783 142913\n",
      "  is  Time:isis isis  1000425   100045910004930.12106895446777344\n",
      "10003911000323\n",
      "\n",
      "\n",
      "\n",
      "\n",
      "Time:1000510Time:Time:Time:Time:      0is not a prime number000\n",
      "0\n",
      "\n",
      "\n",
      "\n",
      "1000544\n",
      "100057821000612 10006461000680  is not a prime number   timesis not a prime number\n",
      "is not a prime numberis not a prime number \n",
      "\n",
      "is not a prime number2\n",
      "2500255\n",
      "2 2  2times  is times timestimes  500306times  1000510\n",
      " 500272500323  Time:500340is  0is 1000646 \n",
      "500289is 1000680\n",
      "1000527 Time:\n",
      "is not a prime number Time:  \n",
      "0\n",
      "30is \n",
      "1000663  times is not a prime number333509\n",
      " is433is 1000612  times 1000527\n",
      " 10005441000578\n",
      "2311\n",
      "Time:\n",
      "Time:  Time: Time:0is 0  \n",
      "\n",
      "001000663\n",
      "1000714Time:  is not a prime number0\n",
      "\n",
      "2 10006291000748\n",
      "times\n",
      "   10005611000595500357  is not a prime numberis not a prime number is not a prime number\n",
      "is not a prime number\n",
      "is3\n",
      "\n",
      "2  15710007145 times times\n",
      "  timesTime:  5003740 \n",
      "is1000731  1000748timesis not a prime number\n",
      " \n",
      "3335433Time:  times0 \n",
      "3335771000765 6373is  is not a prime number 1000731\n",
      " \n",
      "5 200119Time:is  is "
     ]
    }
   ],
   "source": [
    "for i in range(1000000, 1001000, 200):\n",
    "    prime_checks = [x for x in range(1000000,i,17)]\n",
    "    print(prime_checks)\n",
    "    pool_process(check_prime, prime_checks, 8)"
   ]
  },
  {
   "cell_type": "code",
   "execution_count": 12,
   "metadata": {},
   "outputs": [],
   "source": [
    "pool_process(check_prime, [15485863, 32452843, 49979687, 67867967, 86028121], 2)"
   ]
  },
  {
   "cell_type": "code",
   "execution_count": 13,
   "metadata": {},
   "outputs": [],
   "source": [
    "pool_process(check_prime, [15485863, 32452843, 49979687, 67867967, 86028121], 8)"
   ]
  },
  {
   "cell_type": "code",
   "execution_count": 14,
   "metadata": {},
   "outputs": [],
   "source": [
    "pool_process(check_prime, [15485863, 32452843, 49979687, 67867967, 86028121], 1)"
   ]
  },
  {
   "cell_type": "code",
   "execution_count": null,
   "metadata": {},
   "outputs": [],
   "source": []
  }
 ],
 "metadata": {
  "kernelspec": {
   "display_name": "Python 3 (ipykernel)",
   "language": "python",
   "name": "python3"
  },
  "language_info": {
   "codemirror_mode": {
    "name": "ipython",
    "version": 3
   },
   "file_extension": ".py",
   "mimetype": "text/x-python",
   "name": "python",
   "nbconvert_exporter": "python",
   "pygments_lexer": "ipython3",
   "version": "3.8.12"
  }
 },
 "nbformat": 4,
 "nbformat_minor": 1
}
